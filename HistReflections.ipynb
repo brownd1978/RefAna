{
 "cells": [
  {
   "cell_type": "code",
   "execution_count": 1,
   "id": "d27777cf-8d8e-4e09-94b0-6ca40be7765b",
   "metadata": {},
   "outputs": [
    {
     "name": "stdout",
     "output_type": "stream",
     "text": [
      "adding path /home/online1/brownd/mu2e/pyana/RefAna\n",
      "adding path /home/online1/brownd/mu2e/pyana/awkward-behaviors\n",
      "['/home/online1/brownd/miniconda3/envs/RefAna/lib/python313.zip', '/home/online1/brownd/miniconda3/envs/RefAna/lib/python3.13', '/home/online1/brownd/miniconda3/envs/RefAna/lib/python3.13/lib-dynload', '', '/home/online1/brownd/miniconda3/envs/RefAna/lib/python3.13/site-packages', '/home/online1/brownd/mu2e/pyana/RefAna', '/home/online1/brownd/mu2e/pyana/awkward-behaviors']\n"
     ]
    }
   ],
   "source": [
    "import sys\n",
    "extra_paths = [\"/home/online1/brownd/mu2e/pyana/RefAna\",\"/home/online1/brownd/mu2e/pyana/awkward-behaviors\"]\n",
    "for extra_path in extra_paths:\n",
    "    print(\"adding path\",extra_path)\n",
    "    if extra_path not in sys.path:\n",
    "        sys.path.append(extra_path)\n",
    "print(sys.path)"
   ]
  },
  {
   "cell_type": "code",
   "execution_count": 2,
   "id": "f62b5c9c-7778-4c82-b79f-582ff13e0b54",
   "metadata": {},
   "outputs": [],
   "source": [
    "import HistReflections"
   ]
  },
  {
   "cell_type": "code",
   "execution_count": 3,
   "id": "46399cc0-0a8b-4b76-beeb-93c356b49187",
   "metadata": {},
   "outputs": [],
   "source": [
    "###### onefile = [\"/data/HD5/users/brownd/61803286/nts.brownd.TAReflect.CRYAllOffSpill.001202_00000010.root\"]\n",
    "allfiles = [\n",
    "\"/data/HD5/users/brownd/61803286/nts.brownd.TAReflect.CRYAllOffSpill.001202_00000010.root\",\n",
    "\"/data/HD5/users/brownd/61803286/nts.brownd.TAReflect.CRYAllOffSpill.001202_00000518.root\",\n",
    "\"/data/HD5/users/brownd/61803286/nts.brownd.TAReflect.CRYAllOffSpill.001202_00001032.root\",\n",
    "\"/data/HD5/users/brownd/61803286/nts.brownd.TAReflect.CRYAllOffSpill.001202_00001547.root\",\n",
    "\"/data/HD5/users/brownd/61803286/nts.brownd.TAReflect.CRYAllOffSpill.001202_00002057.root\",\n",
    "\"/data/HD5/users/brownd/61803286/nts.brownd.TAReflect.CRYAllOffSpill.001202_00002561.root\",\n",
    "\"/data/HD5/users/brownd/61803286/nts.brownd.TAReflect.CRYAllOffSpill.001202_00003067.root\",\n",
    "\"/data/HD5/users/brownd/61803286/nts.brownd.TAReflect.CRYAllOffSpill.001202_00003570.root\",\n",
    "\"/data/HD5/users/brownd/61803286/nts.brownd.TAReflect.CRYAllOffSpill.001202_00004074.root\",\n",
    "\"/data/HD5/users/brownd/61803286/nts.brownd.TAReflect.CRYAllOffSpill.001202_00004577.root\",\n",
    "\"/data/HD5/users/brownd/61803286/nts.brownd.TAReflect.CRYAllOffSpill.001202_00005081.root\",\n",
    "\"/data/HD5/users/brownd/61803286/nts.brownd.TAReflect.CRYAllOffSpill.001202_00005616.root\",\n",
    "\"/data/HD5/users/brownd/61803286/nts.brownd.TAReflect.CRYAllOffSpill.001202_00006156.root\",\n",
    "\"/data/HD5/users/brownd/61803286/nts.brownd.TAReflect.CRYAllOffSpill.001202_00006706.root\",\n",
    "\"/data/HD5/users/brownd/61803286/nts.brownd.TAReflect.CRYAllOffSpill.001202_00007246.root\",\n",
    "\"/data/HD5/users/brownd/61803286/nts.brownd.TAReflect.CRYAllOffSpill.001202_00007764.root\",\n",
    "\"/data/HD5/users/brownd/61803286/nts.brownd.TAReflect.CRYAllOffSpill.001202_00008324.root\",\n",
    "\"/data/HD5/users/brownd/61803286/nts.brownd.TAReflect.CRYAllOffSpill.001202_00008894.root\",\n",
    "\"/data/HD5/users/brownd/61803286/nts.brownd.TAReflect.CRYAllOffSpill.001202_00009535.root\",\n",
    "\"/data/HD5/users/brownd/61803286/nts.brownd.TAReflect.CRYAllOffSpill.001202_00013483.root\"\n",
    "]\n",
    "\n",
    "signalallfiles = [\n",
    "\"/data/HD6/users/brownd/19973086/00/00000/nts.brownd.TAReflect.OffSignalAll.001202_00000000.root\",\n",
    "\"/data/HD6/users/brownd/19973086/00/00002/nts.brownd.TAReflect.OffSignalAll.001202_00000073.root\",\n",
    "\"/data/HD6/users/brownd/19973086/00/00003/nts.brownd.TAReflect.OffSignalAll.001202_00000911.root\",\n",
    "\"/data/HD6/users/brownd/19973086/00/00004/nts.brownd.TAReflect.OffSignalAll.001202_00004957.root\",\n",
    "\"/data/HD6/users/brownd/19973086/00/00005/nts.brownd.TAReflect.OffSignalAll.001202_00005080.root\",\n",
    "\"/data/HD6/users/brownd/19973086/00/00006/nts.brownd.TAReflect.OffSignalAll.001202_00006131.root\",\n",
    "\"/data/HD6/users/brownd/19973086/00/00007/nts.brownd.TAReflect.OffSignalAll.001202_00010056.root\",\n",
    "\"/data/HD6/users/brownd/19973086/00/00008/nts.brownd.TAReflect.OffSignalAll.001202_00011021.root\",\n",
    "\"/data/HD6/users/brownd/19973086/00/00009/nts.brownd.TAReflect.OffSignalAll.001202_00015054.root\",\n",
    "\"/data/HD6/users/brownd/19973086/00/00010/nts.brownd.TAReflect.OffSignalAll.001202_00015418.root\",\n",
    "\"/data/HD6/users/brownd/19973086/00/00011/nts.brownd.TAReflect.OffSignalAll.001202_00019923.root\",\n",
    "\"/data/HD6/users/brownd/19973086/00/00012/nts.brownd.TAReflect.OffSignalAll.001202_00020003.root\",\n",
    "\"/data/HD6/users/brownd/19973086/00/00013/nts.brownd.TAReflect.OffSignalAll.001202_00024885.root\",\n",
    "\"/data/HD6/users/brownd/19973086/00/00014/nts.brownd.TAReflect.OffSignalAll.001202_00024932.root\",\n",
    "\"/data/HD6/users/brownd/19973086/00/00015/nts.brownd.TAReflect.OffSignalAll.001202_00025005.root\",\n",
    "\"/data/HD6/users/brownd/19973086/00/00016/nts.brownd.TAReflect.OffSignalAll.001202_00027303.root\",\n",
    "\"/data/HD6/users/brownd/19973086/00/00017/nts.brownd.TAReflect.OffSignalAll.001202_00030001.root\",\n",
    "\"/data/HD6/users/brownd/19973086/00/00018/nts.brownd.TAReflect.OffSignalAll.001202_00031203.root\",\n",
    "\"/data/HD6/users/brownd/19973086/00/00019/nts.brownd.TAReflect.OffSignalAll.001202_00034862.root\",\n",
    "\"/data/HD6/users/brownd/19973086/00/00020/nts.brownd.TAReflect.OffSignalAll.001202_00034994.root\",\n",
    "\"/data/HD6/users/brownd/19973086/00/00021/nts.brownd.TAReflect.OffSignalAll.001202_00035393.root\",\n",
    "\"/data/HD6/users/brownd/19973086/00/00022/nts.brownd.TAReflect.OffSignalAll.001202_00036806.root\",\n",
    "\"/data/HD6/users/brownd/19973086/00/00023/nts.brownd.TAReflect.OffSignalAll.001202_00040674.root\",\n",
    "\"/data/HD6/users/brownd/19973086/00/00024/nts.brownd.TAReflect.OffSignalAll.001202_00042791.root\",\n",
    "\"/data/HD6/users/brownd/19973086/00/00025/nts.brownd.TAReflect.OffSignalAll.001202_00044889.root\",\n",
    "\"/data/HD6/users/brownd/19973086/00/00026/nts.brownd.TAReflect.OffSignalAll.001202_00049823.root\",\n",
    "\"/data/HD6/users/brownd/19973086/00/00027/nts.brownd.TAReflect.OffSignalAll.001202_00049964.root\",\n",
    "\"/data/HD6/users/brownd/19973086/00/00028/nts.brownd.TAReflect.OffSignalAll.001202_00050463.root\",\n",
    "\"/data/HD6/users/brownd/19973086/00/00029/nts.brownd.TAReflect.OffSignalAll.001202_00051934.root\",\n",
    "\"/data/HD6/users/brownd/19973086/00/00030/nts.brownd.TAReflect.OffSignalAll.001202_00055130.root\",\n",
    "\"/data/HD6/users/brownd/19973086/00/00031/nts.brownd.TAReflect.OffSignalAll.001202_00056607.root\",\n",
    "\"/data/HD6/users/brownd/19973086/00/00032/nts.brownd.TAReflect.OffSignalAll.001202_00059005.root\",\n",
    "\"/data/HD6/users/brownd/19973086/00/00033/nts.brownd.TAReflect.OffSignalAll.001202_00060622.root\",\n",
    "\"/data/HD6/users/brownd/19973086/00/00034/nts.brownd.TAReflect.OffSignalAll.001202_00062188.root\",\n",
    "\"/data/HD6/users/brownd/19973086/00/00035/nts.brownd.TAReflect.OffSignalAll.001202_00065127.root\",\n",
    "\"/data/HD6/users/brownd/19973086/00/00036/nts.brownd.TAReflect.OffSignalAll.001202_00066074.root\",\n",
    "\"/data/HD6/users/brownd/19973086/00/00037/nts.brownd.TAReflect.OffSignalAll.001202_00069958.root\",\n",
    "\"/data/HD6/users/brownd/19973086/00/00038/nts.brownd.TAReflect.OffSignalAll.001202_00070336.root\",\n",
    "\"/data/HD6/users/brownd/19973086/00/00039/nts.brownd.TAReflect.OffSignalAll.001202_00074959.root\",\n",
    "\"/data/HD6/users/brownd/19973086/00/00040/nts.brownd.TAReflect.OffSignalAll.001202_00075065.root\"\n",
    "]\n",
    "\n",
    "testfile = [\"/data/HD5/users/brownd/ref_test.root\" ]\n",
    "test2file = [\"/data/HD6/users/brownd/19973086/00/00040/nts.brownd.TAReflect.OffSignalAll.001202_00075065.root\" ]\n",
    "test3file = [\"/data/HD6/users/brownd/ntp.brownd.CosmicCRYAllReflect.root\" ]\n",
    "files = signalallfiles\n",
    "#files = onefile\n",
    "#files = [\"/data/HD6/users/brownd/19973086/00/00038/nts.brownd.TAReflect.OffSignalAll.001202_00070336.root\"]\n",
    "\n",
    "TNameBase = \"TAR\""
   ]
  },
  {
   "cell_type": "code",
   "execution_count": 4,
   "id": "5be6ce28-f420-498e-bfdd-b1c6a9525387",
   "metadata": {},
   "outputs": [
    {
     "name": "stdout",
     "output_type": "stream",
     "text": [
      "HistReflections, nhits = 20 Mom Range [85, 125] Comparison at TT_Front PDG $e^-$\n"
     ]
    }
   ],
   "source": [
    "import SurfaceIds as SID\n",
    "momrange = [85,125]\n",
    "histref = HistReflections.HistReflections(momrange=momrange,pdg=11,sid=SID.TT_Front())\n",
    "histref.Print()"
   ]
  },
  {
   "cell_type": "code",
   "execution_count": 5,
   "id": "1c9144e5-7ffa-4344-a167-75d5882a76c7",
   "metadata": {},
   "outputs": [
    {
     "name": "stdout",
     "output_type": "stream",
     "text": [
      "Processing batch  0 1 2 3 4 5 6 7 8 9 10 11 12 13 14 15 16 17 18 19 20 21 22 23 24 25 26 27 28 29 30 31 32 33 34 35 36 37 38 39 40 41 42 43 44 45 46 47 48 49 50 51 52 53 54 55 56 57 58 59 60 61 62 63 64 65 66 67 68 69 70 71 72 73 74 75 76 77 78 79 \n",
      "From 172188 total reflections found 111445 with good quality reco, 93604 confirmed $e^-$ and 9113 Target [85, 125]\n"
     ]
    }
   ],
   "source": [
    "TName = TNameBase+\"e/ntuple\"\n",
    "histref.Loop(files,TName)"
   ]
  },
  {
   "cell_type": "code",
   "execution_count": 6,
   "id": "0a87fd46-2b6e-4077-9caf-fe6a63c0dd94",
   "metadata": {},
   "outputs": [
    {
     "name": "stdout",
     "output_type": "stream",
     "text": [
      "Saved /NInter/All ST to /data/HD5/users/brownd/HistReflections.hdf5\n",
      "Saved /NInter/Target ST to /data/HD5/users/brownd/HistReflections.hdf5\n",
      "Saved /NInter/All IPA to /data/HD5/users/brownd/HistReflections.hdf5\n",
      "Saved /NInter/Target IPA to /data/HD5/users/brownd/HistReflections.hdf5\n",
      "Saved /DnMom/All to /data/HD5/users/brownd/HistReflections.hdf5\n",
      "Saved /DnMom/Target to /data/HD5/users/brownd/HistReflections.hdf5\n",
      "Saved /DnMom/No Target to /data/HD5/users/brownd/HistReflections.hdf5\n",
      "Saved /DnMom/No IPA to /data/HD5/users/brownd/HistReflections.hdf5\n",
      "Saved /DnMom/No Mat to /data/HD5/users/brownd/HistReflections.hdf5\n",
      "Saved /UpMom/All to /data/HD5/users/brownd/HistReflections.hdf5\n",
      "Saved /UpMom/Target to /data/HD5/users/brownd/HistReflections.hdf5\n",
      "Saved /UpMom/No Mat to /data/HD5/users/brownd/HistReflections.hdf5\n",
      "Saved /UpMom/No Target to /data/HD5/users/brownd/HistReflections.hdf5\n",
      "Saved /UpMom/No IPA to /data/HD5/users/brownd/HistReflections.hdf5\n",
      "Saved /DeltaMom/All to /data/HD5/users/brownd/HistReflections.hdf5\n",
      "Saved /DeltaMom/Target to /data/HD5/users/brownd/HistReflections.hdf5\n",
      "Saved /DeltaMom/No Target to /data/HD5/users/brownd/HistReflections.hdf5\n",
      "Saved /DeltaMom/No IPA to /data/HD5/users/brownd/HistReflections.hdf5\n",
      "Saved /DeltaMom/No Mat to /data/HD5/users/brownd/HistReflections.hdf5\n"
     ]
    }
   ],
   "source": [
    "histref.Write(\"/data/HD5/users/brownd/HistReflections.hdf5\")"
   ]
  }
 ],
 "metadata": {
  "kernelspec": {
   "display_name": "RefAna",
   "language": "python",
   "name": "refana"
  },
  "language_info": {
   "codemirror_mode": {
    "name": "ipython",
    "version": 3
   },
   "file_extension": ".py",
   "mimetype": "text/x-python",
   "name": "python",
   "nbconvert_exporter": "python",
   "pygments_lexer": "ipython3",
   "version": "3.13.1"
  }
 },
 "nbformat": 4,
 "nbformat_minor": 5
}
